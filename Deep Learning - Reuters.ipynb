{
  "nbformat": 4,
  "nbformat_minor": 0,
  "metadata": {
    "colab": {
      "provenance": [],
      "toc_visible": true,
      "authorship_tag": "ABX9TyOhPilCvl1lSm+KRrKY9Kxn",
      "include_colab_link": true
    },
    "kernelspec": {
      "name": "python3",
      "display_name": "Python 3"
    },
    "language_info": {
      "name": "python"
    },
    "accelerator": "GPU",
    "gpuClass": "standard"
  },
  "cells": [
    {
      "cell_type": "markdown",
      "metadata": {
        "id": "view-in-github",
        "colab_type": "text"
      },
      "source": [
        "<a href=\"https://colab.research.google.com/github/Denismcolin/Denismcolin/blob/main/Deep%20Learning%20-%20Reuters.ipynb\" target=\"_parent\"><img src=\"https://colab.research.google.com/assets/colab-badge.svg\" alt=\"Open In Colab\"/></a>"
      ]
    },
    {
      "cell_type": "code",
      "source": [
        "from tensorflow.keras.datasets import reuters\n",
        "(train_data, train_labels), (test_data, test_labels) = reuters.load_data(\n",
        " num_words=10000)"
      ],
      "metadata": {
        "colab": {
          "base_uri": "https://localhost:8080/"
        },
        "id": "bg4bvHpn3noI",
        "outputId": "b1217707-b988-4b5e-a039-0699afa5bf82"
      },
      "execution_count": 1,
      "outputs": [
        {
          "output_type": "stream",
          "name": "stdout",
          "text": [
            "Downloading data from https://storage.googleapis.com/tensorflow/tf-keras-datasets/reuters.npz\n",
            "2110848/2110848 [==============================] - 0s 0us/step\n"
          ]
        }
      ]
    },
    {
      "cell_type": "code",
      "source": [
        "word_index = reuters.get_word_index()\n",
        "reverse_word_index = dict(\n",
        " [(value, key) for (key, value) in word_index.items()])\n",
        "decoded_newswire = \" \".join(\n",
        " [reverse_word_index.get(i - 3, \"?\") for i in train_data[0]])\n"
      ],
      "metadata": {
        "colab": {
          "base_uri": "https://localhost:8080/"
        },
        "id": "npDGnaDe8WJr",
        "outputId": "5fcad878-f9e2-4bec-c081-179946f1c1a3"
      },
      "execution_count": 2,
      "outputs": [
        {
          "output_type": "stream",
          "name": "stdout",
          "text": [
            "Downloading data from https://storage.googleapis.com/tensorflow/tf-keras-datasets/reuters_word_index.json\n",
            "550378/550378 [==============================] - 0s 0us/step\n"
          ]
        }
      ]
    },
    {
      "cell_type": "code",
      "source": [
        "import numpy as np\n",
        "def vectorize_sequences(sequences, dimension=10000):\n",
        " results = np.zeros((len(sequences), dimension))\n",
        " for i, sequence in enumerate(sequences):\n",
        "  for j in sequence:\n",
        "    results[i, j] = 1.\n",
        " return results\n",
        "x_train = vectorize_sequences(train_data)\n",
        "x_test = vectorize_sequences(test_data)"
      ],
      "metadata": {
        "id": "4gyc3ZA_0CKK"
      },
      "execution_count": 5,
      "outputs": []
    },
    {
      "cell_type": "code",
      "source": [
        "def to_one_hot(labels, dimension=46):\n",
        " results = np.zeros((len(labels), dimension))\n",
        " for i, label in enumerate(labels):\n",
        "  results[i, label] = 1.\n",
        " return results\n",
        "y_train = to_one_hot(train_labels)\n",
        "y_test = to_one_hot(test_labels)"
      ],
      "metadata": {
        "id": "EY-31wQ72D89"
      },
      "execution_count": 9,
      "outputs": []
    },
    {
      "cell_type": "code",
      "source": [
        "from tensorflow.keras.utils import to_categorical\n",
        "y_train = to_categorical(train_labels)\n",
        "y_test = to_categorical(test_labels)"
      ],
      "metadata": {
        "id": "p0r6Yu3M2W0J"
      },
      "execution_count": 14,
      "outputs": []
    },
    {
      "cell_type": "code",
      "source": [
        "from tensorflow import keras\n",
        "from tensorflow.keras import layers\n",
        "\n",
        "model = keras.Sequential([\n",
        " layers.Dense(64, activation=\"relu\"),\n",
        " layers.Dense(64, activation=\"relu\"),\n",
        " layers.Dense(46, activation=\"softmax\")\n",
        "])"
      ],
      "metadata": {
        "id": "QxB92Qnw2iwF"
      },
      "execution_count": 16,
      "outputs": []
    },
    {
      "cell_type": "code",
      "source": [
        "model.compile(optimizer=\"rmsprop\",\n",
        " loss=\"categorical_crossentropy\",\n",
        " metrics=[\"accuracy\"])"
      ],
      "metadata": {
        "id": "PqwYzvs_2tak"
      },
      "execution_count": 17,
      "outputs": []
    },
    {
      "cell_type": "code",
      "source": [
        "x_val = x_train[:1000]\n",
        "partial_x_train = x_train[1000:]\n",
        "y_val = y_train[:1000]\n",
        "partial_y_train = y_train[1000:]"
      ],
      "metadata": {
        "id": "_Dzh9h1a3X_b"
      },
      "execution_count": 19,
      "outputs": []
    },
    {
      "cell_type": "code",
      "source": [
        "history = model.fit(partial_x_train,\n",
        " partial_y_train,\n",
        " epochs=20,\n",
        " batch_size=512,\n",
        " validation_data=(x_val, y_val))"
      ],
      "metadata": {
        "colab": {
          "base_uri": "https://localhost:8080/"
        },
        "id": "xzLUUsKD3cyA",
        "outputId": "f2412c1b-b788-4000-b1b1-bad465e1c747"
      },
      "execution_count": 20,
      "outputs": [
        {
          "output_type": "stream",
          "name": "stdout",
          "text": [
            "Epoch 1/20\n",
            "16/16 [==============================] - 6s 47ms/step - loss: 2.6338 - accuracy: 0.5117 - val_loss: 1.7756 - val_accuracy: 0.6360\n",
            "Epoch 2/20\n",
            "16/16 [==============================] - 0s 19ms/step - loss: 1.4989 - accuracy: 0.6927 - val_loss: 1.3777 - val_accuracy: 0.6860\n",
            "Epoch 3/20\n",
            "16/16 [==============================] - 0s 19ms/step - loss: 1.1676 - accuracy: 0.7437 - val_loss: 1.2107 - val_accuracy: 0.7150\n",
            "Epoch 4/20\n",
            "16/16 [==============================] - 0s 18ms/step - loss: 0.9635 - accuracy: 0.7858 - val_loss: 1.1001 - val_accuracy: 0.7610\n",
            "Epoch 5/20\n",
            "16/16 [==============================] - 0s 17ms/step - loss: 0.8031 - accuracy: 0.8245 - val_loss: 1.0188 - val_accuracy: 0.7860\n",
            "Epoch 6/20\n",
            "16/16 [==============================] - 0s 17ms/step - loss: 0.6740 - accuracy: 0.8582 - val_loss: 0.9583 - val_accuracy: 0.8030\n",
            "Epoch 7/20\n",
            "16/16 [==============================] - 0s 19ms/step - loss: 0.5618 - accuracy: 0.8847 - val_loss: 0.9351 - val_accuracy: 0.7920\n",
            "Epoch 8/20\n",
            "16/16 [==============================] - 0s 17ms/step - loss: 0.4711 - accuracy: 0.9017 - val_loss: 0.9026 - val_accuracy: 0.8040\n",
            "Epoch 9/20\n",
            "16/16 [==============================] - 0s 17ms/step - loss: 0.3999 - accuracy: 0.9146 - val_loss: 0.8747 - val_accuracy: 0.8130\n",
            "Epoch 10/20\n",
            "16/16 [==============================] - 0s 19ms/step - loss: 0.3361 - accuracy: 0.9270 - val_loss: 0.9460 - val_accuracy: 0.7920\n",
            "Epoch 11/20\n",
            "16/16 [==============================] - 0s 17ms/step - loss: 0.2972 - accuracy: 0.9350 - val_loss: 0.8813 - val_accuracy: 0.8080\n",
            "Epoch 12/20\n",
            "16/16 [==============================] - 0s 17ms/step - loss: 0.2587 - accuracy: 0.9401 - val_loss: 0.8908 - val_accuracy: 0.8080\n",
            "Epoch 13/20\n",
            "16/16 [==============================] - 0s 19ms/step - loss: 0.2238 - accuracy: 0.9466 - val_loss: 0.8870 - val_accuracy: 0.8170\n",
            "Epoch 14/20\n",
            "16/16 [==============================] - 0s 19ms/step - loss: 0.2055 - accuracy: 0.9490 - val_loss: 0.8878 - val_accuracy: 0.8160\n",
            "Epoch 15/20\n",
            "16/16 [==============================] - 0s 16ms/step - loss: 0.1897 - accuracy: 0.9533 - val_loss: 0.8836 - val_accuracy: 0.8190\n",
            "Epoch 16/20\n",
            "16/16 [==============================] - 0s 17ms/step - loss: 0.1676 - accuracy: 0.9535 - val_loss: 0.8938 - val_accuracy: 0.8120\n",
            "Epoch 17/20\n",
            "16/16 [==============================] - 0s 19ms/step - loss: 0.1646 - accuracy: 0.9545 - val_loss: 0.9135 - val_accuracy: 0.8180\n",
            "Epoch 18/20\n",
            "16/16 [==============================] - 0s 19ms/step - loss: 0.1461 - accuracy: 0.9569 - val_loss: 0.9526 - val_accuracy: 0.8040\n",
            "Epoch 19/20\n",
            "16/16 [==============================] - 0s 19ms/step - loss: 0.1396 - accuracy: 0.9565 - val_loss: 0.9891 - val_accuracy: 0.8000\n",
            "Epoch 20/20\n",
            "16/16 [==============================] - 0s 16ms/step - loss: 0.1396 - accuracy: 0.9572 - val_loss: 0.9366 - val_accuracy: 0.8110\n"
          ]
        }
      ]
    },
    {
      "cell_type": "code",
      "source": [
        "import matplotlib.pyplot as plt\n",
        "\n",
        "loss = history.history[\"loss\"]\n",
        "val_loss = history.history[\"val_loss\"]\n",
        "epochs = range(1, len(loss) + 1)\n",
        "plt.plot(epochs, loss, \"bo\", label=\"Потери на этапе обучения\")\n",
        "plt.plot(epochs, val_loss, \"b\", label=\"Потери на этапе проверки\")\n",
        "plt.title(\"Потери на этапах обучения и проверки\")\n",
        "plt.xlabel(\"Эпохи\")\n",
        "plt.ylabel(\"Потери\")\n",
        "plt.legend()\n",
        "plt.show()"
      ],
      "metadata": {
        "colab": {
          "base_uri": "https://localhost:8080/",
          "height": 295
        },
        "id": "U4wy6McE4QjA",
        "outputId": "5fa888bb-9f86-4929-ff6e-85f4e0c24c83"
      },
      "execution_count": 22,
      "outputs": [
        {
          "output_type": "display_data",
          "data": {
            "text/plain": [
              "<Figure size 432x288 with 1 Axes>"
            ],
            "image/png": "[encoded data removed]"
          },
          "metadata": {
            "needs_background": "light"
          }
        }
      ]
    },
    {
      "cell_type": "code",
      "source": [
        "plt.clf()\n",
        "acc = history.history[\"accuracy\"]\n",
        "val_acc = history.history[\"val_accuracy\"]\n",
        "plt.plot(epochs, acc, \"bo\", label=\"Точность на этапе обучения\")\n",
        "plt.plot(epochs, val_acc, \"b\", label=\"Точность на этапе проверки\")\n",
        "plt.title(\"Точность на этапах обучения и проверки\")\n",
        "plt.xlabel(\"Эпохи\")\n",
        "plt.ylabel(\"Точность\")\n",
        "plt.legend()\n",
        "plt.show()"
      ],
      "metadata": {
        "colab": {
          "base_uri": "https://localhost:8080/",
          "height": 295
        },
        "id": "UGSiq5H04Zy_",
        "outputId": "6ae1ea7d-eda0-4974-d7aa-cc5c825ad9af"
      },
      "execution_count": 23,
      "outputs": [
        {
          "output_type": "display_data",
          "data": {
            "text/plain": [
              "<Figure size 432x288 with 1 Axes>"
            ],
            "image/png": "[encoded data removed]"
          },
          "metadata": {
            "needs_background": "light"
          }
        }
      ]
    },
    {
      "cell_type": "code",
      "source": [
        "model = keras.Sequential([\n",
        " layers.Dense(64, activation=\"relu\"),\n",
        " layers.Dense(64, activation=\"relu\"),\n",
        " layers.Dense(46, activation=\"softmax\")\n",
        "])\n",
        "model.compile(optimizer=\"rmsprop\",\n",
        " loss=\"categorical_crossentropy\",\n",
        " metrics=[\"accuracy\"])\n",
        "model.fit(x_train,\n",
        " y_train,\n",
        " epochs=9,\n",
        " batch_size=512)\n",
        "results = model.evaluate(x_test, y_test)"
      ],
      "metadata": {
        "colab": {
          "base_uri": "https://localhost:8080/"
        },
        "id": "zrIzlORL4om2",
        "outputId": "8c56dd2c-a93b-4f6a-8e75-5b48c9e59923"
      },
      "execution_count": 24,
      "outputs": [
        {
          "output_type": "stream",
          "name": "stdout",
          "text": [
            "Epoch 1/9\n",
            "18/18 [==============================] - 1s 14ms/step - loss: 2.5129 - accuracy: 0.5112\n",
            "Epoch 2/9\n",
            "18/18 [==============================] - 0s 13ms/step - loss: 1.4125 - accuracy: 0.6925\n",
            "Epoch 3/9\n",
            "18/18 [==============================] - 0s 13ms/step - loss: 1.0958 - accuracy: 0.7557\n",
            "Epoch 4/9\n",
            "18/18 [==============================] - 0s 14ms/step - loss: 0.8949 - accuracy: 0.8052\n",
            "Epoch 5/9\n",
            "18/18 [==============================] - 0s 14ms/step - loss: 0.7356 - accuracy: 0.8378\n",
            "Epoch 6/9\n",
            "18/18 [==============================] - 0s 13ms/step - loss: 0.6073 - accuracy: 0.8668\n",
            "Epoch 7/9\n",
            "18/18 [==============================] - 0s 13ms/step - loss: 0.5008 - accuracy: 0.8931\n",
            "Epoch 8/9\n",
            "18/18 [==============================] - 0s 15ms/step - loss: 0.4186 - accuracy: 0.9089\n",
            "Epoch 9/9\n",
            "18/18 [==============================] - 0s 13ms/step - loss: 0.3579 - accuracy: 0.9237\n",
            "71/71 [==============================] - 0s 4ms/step - loss: 0.8978 - accuracy: 0.7930\n"
          ]
        }
      ]
    },
    {
      "cell_type": "code",
      "source": [
        "results"
      ],
      "metadata": {
        "colab": {
          "base_uri": "https://localhost:8080/"
        },
        "id": "fEEBU8YW4wxL",
        "outputId": "6ec13a2a-e302-4ff0-b2f5-9eca1153eded"
      },
      "execution_count": 25,
      "outputs": [
        {
          "output_type": "execute_result",
          "data": {
            "text/plain": [
              "[0.8978350162506104, 0.792965292930603]"
            ]
          },
          "metadata": {},
          "execution_count": 25
        }
      ]
    },
    {
      "cell_type": "code",
      "source": [
        "import copy\n",
        "\n",
        "test_labels_copy = copy.copy(test_labels)\n",
        "np.random.shuffle(test_labels_copy)\n",
        "hits_array = np.array(test_labels) == np.array(test_labels_copy)\n",
        "hits_array.mean()"
      ],
      "metadata": {
        "colab": {
          "base_uri": "https://localhost:8080/"
        },
        "id": "D0M1uoW740ZP",
        "outputId": "5b763c68-c41c-47c8-e19c-c569cf40b6d1"
      },
      "execution_count": 26,
      "outputs": [
        {
          "output_type": "execute_result",
          "data": {
            "text/plain": [
              "0.18967052537845058"
            ]
          },
          "metadata": {},
          "execution_count": 26
        }
      ]
    },
    {
      "cell_type": "code",
      "source": [
        "predictions = model.predict(x_test)\n"
      ],
      "metadata": {
        "colab": {
          "base_uri": "https://localhost:8080/"
        },
        "id": "IPWZ5G6B4_-c",
        "outputId": "0a63a037-3c73-41c2-c80c-9a8d31c0f109"
      },
      "execution_count": 27,
      "outputs": [
        {
          "output_type": "stream",
          "name": "stdout",
          "text": [
            "71/71 [==============================] - 1s 5ms/step\n"
          ]
        }
      ]
    },
    {
      "cell_type": "code",
      "source": [
        "predictions[0].shape"
      ],
      "metadata": {
        "colab": {
          "base_uri": "https://localhost:8080/"
        },
        "id": "BpsVhonV5Evy",
        "outputId": "08729c89-e61e-4daf-d681-7badc03b00c5"
      },
      "execution_count": 28,
      "outputs": [
        {
          "output_type": "execute_result",
          "data": {
            "text/plain": [
              "(46,)"
            ]
          },
          "metadata": {},
          "execution_count": 28
        }
      ]
    },
    {
      "cell_type": "code",
      "source": [
        " np.sum(predictions[0])"
      ],
      "metadata": {
        "colab": {
          "base_uri": "https://localhost:8080/"
        },
        "id": "V2xq8SoE5KyV",
        "outputId": "5294cf5d-a3e2-48bb-cf29-87b2a0fb6a20"
      },
      "execution_count": 29,
      "outputs": [
        {
          "output_type": "execute_result",
          "data": {
            "text/plain": [
              "1.0000001"
            ]
          },
          "metadata": {},
          "execution_count": 29
        }
      ]
    },
    {
      "cell_type": "code",
      "source": [
        "np.argmax(predictions[0])"
      ],
      "metadata": {
        "colab": {
          "base_uri": "https://localhost:8080/"
        },
        "id": "dRL9DaWf5PAh",
        "outputId": "0b10b5df-695c-4f65-85e1-02898b8f2a53"
      },
      "execution_count": 30,
      "outputs": [
        {
          "output_type": "execute_result",
          "data": {
            "text/plain": [
              "3"
            ]
          },
          "metadata": {},
          "execution_count": 30
        }
      ]
    },
    {
      "cell_type": "code",
      "source": [
        "model = keras.Sequential([\n",
        " layers.Dense(64, activation=\"relu\"),\n",
        " layers.Dense(4, activation=\"relu\"),\n",
        " layers.Dense(46, activation=\"softmax\")\n",
        "])\n",
        "model.compile(optimizer=\"rmsprop\",\n",
        " loss=\"categorical_crossentropy\",\n",
        " metrics=[\"accuracy\"])\n",
        "model.fit(partial_x_train,\n",
        " partial_y_train,\n",
        " epochs=20,\n",
        " batch_size=128,\n",
        " validation_data=(x_val, y_val))"
      ],
      "metadata": {
        "colab": {
          "base_uri": "https://localhost:8080/"
        },
        "id": "gy8t54uB5SbT",
        "outputId": "e49e9862-6473-4381-d39a-4169d7e49ca9"
      },
      "execution_count": 31,
      "outputs": [
        {
          "output_type": "stream",
          "name": "stdout",
          "text": [
            "Epoch 1/20\n",
            "63/63 [==============================] - 2s 12ms/step - loss: 3.0302 - accuracy: 0.3315 - val_loss: 2.3964 - val_accuracy: 0.4050\n",
            "Epoch 2/20\n",
            "63/63 [==============================] - 0s 6ms/step - loss: 1.9790 - accuracy: 0.5803 - val_loss: 1.7468 - val_accuracy: 0.6080\n",
            "Epoch 3/20\n",
            "63/63 [==============================] - 0s 6ms/step - loss: 1.5353 - accuracy: 0.6393 - val_loss: 1.5407 - val_accuracy: 0.6240\n",
            "Epoch 4/20\n",
            "63/63 [==============================] - 0s 6ms/step - loss: 1.3607 - accuracy: 0.6530 - val_loss: 1.4638 - val_accuracy: 0.6140\n",
            "Epoch 5/20\n",
            "63/63 [==============================] - 0s 5ms/step - loss: 1.2550 - accuracy: 0.6616 - val_loss: 1.4191 - val_accuracy: 0.6370\n",
            "Epoch 6/20\n",
            "63/63 [==============================] - 0s 6ms/step - loss: 1.1743 - accuracy: 0.6972 - val_loss: 1.3936 - val_accuracy: 0.6640\n",
            "Epoch 7/20\n",
            "63/63 [==============================] - 0s 6ms/step - loss: 1.1077 - accuracy: 0.7157 - val_loss: 1.3944 - val_accuracy: 0.6620\n",
            "Epoch 8/20\n",
            "63/63 [==============================] - 0s 6ms/step - loss: 1.0530 - accuracy: 0.7239 - val_loss: 1.3770 - val_accuracy: 0.6780\n",
            "Epoch 9/20\n",
            "63/63 [==============================] - 0s 6ms/step - loss: 1.0052 - accuracy: 0.7268 - val_loss: 1.4152 - val_accuracy: 0.6780\n",
            "Epoch 10/20\n",
            "63/63 [==============================] - 0s 6ms/step - loss: 0.9633 - accuracy: 0.7359 - val_loss: 1.4014 - val_accuracy: 0.6860\n",
            "Epoch 11/20\n",
            "63/63 [==============================] - 0s 6ms/step - loss: 0.9261 - accuracy: 0.7438 - val_loss: 1.4189 - val_accuracy: 0.6840\n",
            "Epoch 12/20\n",
            "63/63 [==============================] - 0s 6ms/step - loss: 0.8942 - accuracy: 0.7496 - val_loss: 1.4510 - val_accuracy: 0.6800\n",
            "Epoch 13/20\n",
            "63/63 [==============================] - 0s 6ms/step - loss: 0.8621 - accuracy: 0.7622 - val_loss: 1.4655 - val_accuracy: 0.6810\n",
            "Epoch 14/20\n",
            "63/63 [==============================] - 0s 6ms/step - loss: 0.8387 - accuracy: 0.7672 - val_loss: 1.4956 - val_accuracy: 0.6830\n",
            "Epoch 15/20\n",
            "63/63 [==============================] - 0s 6ms/step - loss: 0.8110 - accuracy: 0.7741 - val_loss: 1.4977 - val_accuracy: 0.6780\n",
            "Epoch 16/20\n",
            "63/63 [==============================] - 0s 6ms/step - loss: 0.7921 - accuracy: 0.7793 - val_loss: 1.5475 - val_accuracy: 0.6730\n",
            "Epoch 17/20\n",
            "63/63 [==============================] - 0s 6ms/step - loss: 0.7686 - accuracy: 0.7850 - val_loss: 1.5682 - val_accuracy: 0.6760\n",
            "Epoch 18/20\n",
            "63/63 [==============================] - 0s 6ms/step - loss: 0.7499 - accuracy: 0.7885 - val_loss: 1.5863 - val_accuracy: 0.6770\n",
            "Epoch 19/20\n",
            "63/63 [==============================] - 0s 6ms/step - loss: 0.7338 - accuracy: 0.7920 - val_loss: 1.6321 - val_accuracy: 0.6720\n",
            "Epoch 20/20\n",
            "63/63 [==============================] - 0s 6ms/step - loss: 0.7156 - accuracy: 0.7943 - val_loss: 1.6537 - val_accuracy: 0.6750\n"
          ]
        },
        {
          "output_type": "execute_result",
          "data": {
            "text/plain": [
              "<keras.callbacks.History at 0x7f20901aabe0>"
            ]
          },
          "metadata": {},
          "execution_count": 31
        }
      ]
    },
    {
      "cell_type": "code",
      "source": [],
      "metadata": {
        "id": "HkQVmfFd5ddP"
      },
      "execution_count": null,
      "outputs": []
    }
  ]
}